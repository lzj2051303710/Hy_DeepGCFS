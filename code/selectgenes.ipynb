{
 "cells": [
  {
   "cell_type": "code",
   "execution_count": 2,
   "id": "2dc40c9b-5a91-49f2-8ce3-c65fdf3c3417",
   "metadata": {},
   "outputs": [],
   "source": [
    "from sklearn.preprocessing import MinMaxScaler\n",
    "# preprocessing by mic\n",
    "from sklearn.feature_selection import SelectKBest\n",
    "import numpy as np\n",
    "from minepy import MINE\n",
    "import pandas as pd\n",
    "import csv\n",
    "import pymrmr"
   ]
  },
  {
   "cell_type": "code",
   "execution_count": 3,
   "id": "cd05fcb6-a8a4-40bf-8e2b-59036cda0612",
   "metadata": {},
   "outputs": [],
   "source": [
    "#########################################\n",
    "from sklearn.ensemble import RandomForestClassifier\n",
    "def rf_handler(X, Y, feature_names):\n",
    "    clf=RandomForestClassifier(max_depth = 3, n_estimators=200, random_state=42)\n",
    "    clf.fit(X, Y)\n",
    "    importance = clf.feature_importances_.reshape(-1,1)  \n",
    "    mm = MinMaxScaler()\n",
    "    mm.fit(importance)\n",
    "    result = list(zip(feature_names, importance.reshape(-1)))\n",
    "    result.sort(key=lambda a:a[1], reverse=True)\n",
    "    # 将结果转换为数据框\n",
    "    top_features_df = pd.DataFrame(result[:num], columns=['Feature_name', 'Importance']).set_index('Feature_name')\n",
    "\n",
    "    return top_features_df\n",
    "\n",
    "###############################\n",
    "from sklearn.linear_model import LinearRegression\n",
    "def lr_handler(X, Y, feature_names):\n",
    "    lr = LinearRegression()\n",
    "    lr.fit(X,Y)\n",
    "    importance = np.abs(lr.coef_).reshape(-1,1)\n",
    "    mm = MinMaxScaler()\n",
    "    mm.fit(importance)\n",
    "    result = list(zip(feature_names, importance.reshape(-1)))\n",
    "    result.sort(key=lambda a:a[1], reverse=True)\n",
    "    top_features_df = pd.DataFrame(result[:num], columns=['Feature_name', 'Importance']).set_index('Feature_name')\n",
    "\n",
    "    return top_features_df\n",
    "\n",
    "\n",
    "from sklearn.linear_model import Lasso\n",
    "def lasso_handler(X, Y, feature_names):\n",
    "    '''\n",
    "    select the best 50 features by Lasso\n",
    "\n",
    "    return: selected features\n",
    "    '''\n",
    "    lasso = Lasso(alpha=.01)\n",
    "    lasso.fit(X,Y)\n",
    "    importance = np.abs(lasso.coef_).reshape(-1,1)\n",
    "    mm = MinMaxScaler()\n",
    "    mm.fit(importance)\n",
    "    result = list(zip(feature_names, importance.reshape(-1)))\n",
    "    result.sort(key=lambda a:a[1], reverse=True)\n",
    "    top_features_df = pd.DataFrame(result[:num], columns=['Feature_name', 'Importance']).set_index('Feature_name')\n",
    "\n",
    "    return top_features_df\n",
    "\n",
    "\n",
    "from sklearn.linear_model import RidgeCV\n",
    "def ridge_handler(X, Y, feature_names):\n",
    "    '''\n",
    "    select the best 50 features by Ridge\n",
    "\n",
    "    return: selected features\n",
    "    '''\n",
    "    # 标准化数据\n",
    "    loo = LeaveOneOut()\n",
    "    # 岭回归模型，使用交叉验证确定正则化参数alpha\n",
    "    ridge = RidgeCV(cv=loo)\n",
    "    ridge.fit(X, Y)\n",
    "\n",
    "   # 提取特征权重并排序\n",
    "\n",
    "    importance = np.abs(ridge.coef_).reshape(-1,1)\n",
    "    mm = MinMaxScaler()\n",
    "    mm.fit(importance)\n",
    "    result = list(zip(feature_names, importance.reshape(-1)))\n",
    "    result.sort(key=lambda a:a[1], reverse=True)\n",
    "    top_features_df = pd.DataFrame(result[:num], columns=['Feature_name', 'Importance']).set_index('Feature_name')\n",
    "\n",
    "    return top_features_df\n",
    "\n",
    "from sklearn.ensemble import ExtraTreesClassifier\n",
    "def dt_handler(X, Y, feature_names):\n",
    "    '''\n",
    "    select the best 50 features by decision tree\n",
    "\n",
    "    return: selected features\n",
    "    '''\n",
    "    np.random.seed(111)\n",
    "    dt = ExtraTreesClassifier()\n",
    "    dt.fit(X,Y)\n",
    "    importance = np.abs(dt.feature_importances_).reshape(-1,1)\n",
    "    mm = MinMaxScaler()\n",
    "    mm.fit(importance)\n",
    "    result = list(zip(feature_names, importance.reshape(-1)))\n",
    "    result.sort(key=lambda a:a[1], reverse=True)\n",
    "    top_features_df = pd.DataFrame(result[:num], columns=['Feature_name', 'Importance']).set_index('Feature_name')\n",
    "\n",
    "    return top_features_df\n",
    "\n",
    "def final_handler(X, Y, feature_names):\n",
    "    result_rf = rf_handler(X, Y, feature_names)\n",
    "    result_lasso = lasso_handler(X, Y, feature_names)\n",
    "    result_ridge = ridge_handler(X, Y, feature_names)\n",
    "    #result_stab = stab_handler(X, Y, feature_names)\n",
    "    result_rfe = rfe_handler(X, Y, feature_names)\n",
    "    result_dt = dt_handler(X, Y, feature_names)\n",
    "    result_temp = result_rf+result_lasso+result_ridge+result_rfe+result_dt\n",
    "    result = [x[0] for x in result_temp]\n",
    "    result = pd.value_counts(result)\n",
    "    result_final = list(zip(result.keys().tolist(),result.tolist()))\n",
    "    return result_final"
   ]
  },
  {
   "cell_type": "code",
   "execution_count": 4,
   "id": "05c631a0-be55-47e4-81ed-9895aa6677d8",
   "metadata": {},
   "outputs": [],
   "source": [
    "# get data\n",
    "import pandas as pd\n",
    "import datetime\n",
    "from sklearn import preprocessing\n",
    "data_file = 'N_H_ex.csv'\n",
    "data = pd.read_csv(data_file, sep = ',')\n",
    "X = pd.read_csv(data_file, sep = ',',index_col=0)\n",
    "X=X.T\n",
    "data_file = 'label_H_N.csv'\n",
    "data = pd.read_csv(data_file, sep = ',')\n",
    "data=data.set_index('Sample')\n",
    "Y=data['label']\n",
    "feature_names = X.columns"
   ]
  },
  {
   "cell_type": "code",
   "execution_count": 5,
   "id": "7aa294bd-4362-4017-ae04-2e54196d1ecf",
   "metadata": {},
   "outputs": [],
   "source": [
    "Y = data.iloc[:,0].values\n",
    "Y = preprocessing.LabelEncoder().fit_transform(Y)\n",
    "num =X.shape[1]\n"
   ]
  },
  {
   "cell_type": "code",
   "execution_count": 6,
   "id": "39781e68-ee7c-4c35-b0ad-fc0c04200c31",
   "metadata": {},
   "outputs": [],
   "source": [
    "import numpy as np\n",
    "from scipy.stats import ttest_ind\n",
    "selected_indices = np.where(p_values <0.05)[0]\n",
    "feature_names = list(X.columns)\n",
    "selected_indices = np.where(p_values < 0.05)[0]"
   ]
  },
  {
   "cell_type": "code",
   "execution_count": 8,
   "id": "0bef4c98-7885-4e7b-ac41-6b2b44ecdee3",
   "metadata": {},
   "outputs": [],
   "source": [
    "def mic(x, Y):\n",
    "    mine = MINE()\n",
    "    mine.compute_score(x,Y)\n",
    "    return mine.mic()\n",
    "selector = SelectKBest(lambda X,Y: np.array(list(map(lambda x: mic(x,Y),X.T))), k=num)\n",
    "selector.fit_transform(X, Y)\n",
    "selected_indices = selector.get_support(indices=True)\n",
    "selected_features = [X.columns[index] for index in selected_indices]\n",
    "contributions = [mic(X.iloc[:, index], Y) for index in selected_indices]\n",
    "data = {\"Feature\": selected_features, \"Contribution\": contributions}\n",
    "df = pd.DataFrame(data)\n",
    "\n",
    "mic_df = df.sort_values(by=\"Contribution\", ascending=False)\n",
    "mic_column = mic_df.iloc[:, 0].reset_index(drop=True)\n"
   ]
  },
  {
   "cell_type": "code",
   "execution_count": 9,
   "id": "a8149744-de93-4dd6-80d5-aa588c75ea2e",
   "metadata": {},
   "outputs": [],
   "source": [
    "from sklearn.feature_selection import f_classif\n",
    "f_values, p_values = f_classif(X, Y)\n",
    "feature_tuples = [(X.columns[i], f_values[i], p_values[i]) for i in range(len(X.columns))]\n",
    "\n",
    "ANOVA_df = pd.DataFrame(feature_tuples, columns=['Name', 'F_value', 'p_value']).sort_values(by='F_value', ascending=False)\n",
    "\n",
    "ANOVA_mic_column = ANOVA_df['Name'].reset_index(drop=True)\n",
    "ANOVA_column = ANOVA_df['Name'].tolist()"
   ]
  },
  {
   "cell_type": "code",
   "execution_count": 10,
   "id": "66b531cd-bd0c-444a-8fcf-dcd6bace72f1",
   "metadata": {},
   "outputs": [],
   "source": [
    "from sklearn.feature_selection import mutual_info_classif\n",
    "mi_scores = mutual_info_classif(X, Y)\n",
    "features_mi_scores = dict(zip(X.columns, mi_scores))\n",
    "sorted_features = sorted(features_mi_scores.items(), key=lambda x: x[1], reverse=True)\n",
    "MI_df = pd.DataFrame(sorted_features, columns=['Feature', 'MI Score'])\n",
    "MI_column =MI_df.iloc[:, 0]"
   ]
  },
  {
   "cell_type": "code",
   "execution_count": 11,
   "id": "be4a87e6-4da1-49a0-81da-c3f3f0062f49",
   "metadata": {},
   "outputs": [],
   "source": [
    "import numpy as np\n",
    "from sklearn.datasets import make_classification\n",
    "from skrebate import ReliefF\n",
    "import random\n",
    "import numpy as np\n",
    "random.seed(123)\n",
    "np.random.seed(123)\n",
    "\n",
    "relieff = ReliefF()\n",
    "X1 = X.to_numpy()\n",
    "\n",
    "relieff.fit(X1, Y)\n",
    "\n",
    "feature_scores = relieff.feature_importances_\n",
    "\n",
    "feature_names = X.columns.tolist()\n",
    "\n",
    "features_scores_dict = dict(zip(feature_names, feature_scores))\n",
    "\n",
    "sorted_features = sorted(features_scores_dict.items(), key=lambda x: x[1], reverse=True)\n",
    "\n",
    "ReliefF_df = pd.DataFrame(sorted_features, columns=['Feature', 'Score'])\n",
    "ReliefF_column =ReliefF_df.iloc[:, 0]"
   ]
  },
  {
   "cell_type": "code",
   "execution_count": 14,
   "id": "7d7ff819-e591-44bc-8405-b04228a668f6",
   "metadata": {},
   "outputs": [],
   "source": [
    "from sklearn.ensemble import GradientBoostingClassifier, GradientBoostingRegressor\n",
    "\n",
    "random.seed(123)\n",
    "np.random.seed(123)\n",
    "model = GradientBoostingClassifier()  # or GradientBoostingRegressor()\n",
    "model.fit(X, Y)\n",
    "feature_importance = model.feature_importances_\n",
    "features_importance_scores = dict(zip(X.columns, feature_importance))\n",
    "sorted_features = sorted(features_importance_scores.items(), key=lambda x: x[1], reverse=True)\n",
    "Boost_df = pd.DataFrame(sorted_features, columns=['Feature', 'Importance_score'])\n",
    "Boost_column =Boost_df.iloc[:, 0]"
   ]
  },
  {
   "cell_type": "code",
   "execution_count": 15,
   "id": "2254fc52-bce7-4f0c-995d-84f31bb16a4d",
   "metadata": {},
   "outputs": [],
   "source": [
    "RF_result = rf_handler(X, Y, feature_names)\n",
    "RF_column =RF_result.index.tolist()"
   ]
  },
  {
   "cell_type": "code",
   "execution_count": 16,
   "id": "94fb5057-6268-49f0-a95a-d28314c0f45e",
   "metadata": {},
   "outputs": [],
   "source": [
    "LR_result = lr_handler(X, Y, feature_names)\n",
    "LR_column = LR_result.index.tolist()"
   ]
  },
  {
   "cell_type": "code",
   "execution_count": 17,
   "id": "ffa9022b-ba34-4b7d-b92a-49f08f54571d",
   "metadata": {},
   "outputs": [],
   "source": [
    "lasso_result = lasso_handler(X, Y, feature_names)\n",
    "lasso_column =lasso_result.index.tolist()"
   ]
  },
  {
   "cell_type": "code",
   "execution_count": 18,
   "id": "9340c591-9eb6-40cb-bcb2-2cfb0184ed93",
   "metadata": {},
   "outputs": [],
   "source": [
    "# select features by ridge\n",
    "ridge_result = ridge_handler(X, Y, feature_names)\n",
    "ridge_column =ridge_result.index.tolist()"
   ]
  },
  {
   "cell_type": "code",
   "execution_count": 19,
   "id": "72fbc633-5b5e-4193-af11-2ee63c8a608b",
   "metadata": {},
   "outputs": [],
   "source": [
    "DT_result = dt_handler(X, Y, feature_names)\n",
    "DT_column = DT_result.index.tolist()"
   ]
  },
  {
   "cell_type": "code",
   "execution_count": 20,
   "id": "c3ead35d-4299-49b0-8e65-3f92f2fe8996",
   "metadata": {},
   "outputs": [],
   "source": [
    "df_all = pd.DataFrame({'mic_column': mic_column, 'ANOVA_column': ANOVA_column,'MI_column':MI_column,'ReliefF_column':ReliefF_column,'Boost_column':Boost_column,\n",
    "                   'RF_column':RF_column,'LR_column':LR_column,'lasso_column':lasso_column,'ridge_column':ridge_column,'DT_column':DT_column })\n"
   ]
  },
  {
   "cell_type": "code",
   "execution_count": 21,
   "id": "44febde1-aba4-4012-ba6a-3aab4e3776f6",
   "metadata": {},
   "outputs": [],
   "source": [
    "df_all.to_csv('RRA_2024.csv', index=False)"
   ]
  },
  {
   "cell_type": "code",
   "execution_count": 22,
   "id": "73c2195d-8ac1-4f35-8c88-8402d616bdb2",
   "metadata": {},
   "outputs": [],
   "source": [
    "data_file = 'star_rra.csv'\n",
    "data_rra = pd.read_csv(data_file, sep = ',', index_col=0)\n"
   ]
  },
  {
   "cell_type": "code",
   "execution_count": 23,
   "id": "9773fc0b-f31e-46be-a466-368aa3530532",
   "metadata": {},
   "outputs": [],
   "source": [
    "from sklearn.ensemble import RandomForestClassifier\n",
    "from sklearn.model_selection import cross_val_score, LeaveOneOut\n",
    "\n",
    "def Fitness(X, y):\n",
    "    #model = SVC(probability=True)\n",
    "    model = RandomForestClassifier(max_depth=3, n_estimators=100, random_state=42)\n",
    "    loo = LeaveOneOut()\n",
    "    fitness = cross_val_score(model, X, y, cv=loo, scoring='accuracy')\n",
    "    #return np.mean(fitness)"
   ]
  },
  {
   "cell_type": "code",
   "execution_count": 59,
   "id": "794361d8-3e8a-4a47-a761-22fd90ec5675",
   "metadata": {},
   "outputs": [],
   "source": [
    "df_sorted=X"
   ]
  },
  {
   "cell_type": "code",
   "execution_count": 60,
   "id": "40bacc82-a269-4d44-a984-830b72a6ee0c",
   "metadata": {},
   "outputs": [],
   "source": [
    "#mic_column,ANOVA_column,MI_column,ReliefF_column,Boost_column,RF_column,LR_column,lasso_column,ridge_column,DT_column\n",
    "###MI_column、Boost_column、RF_column\n",
    "df_sorted = X[MI_column]"
   ]
  },
  {
   "cell_type": "code",
   "execution_count": 80,
   "id": "01225d8f",
   "metadata": {},
   "outputs": [],
   "source": [
    "from sklearn.tree import DecisionTreeClassifier \n",
    "model4 = DecisionTreeClassifier(max_depth=6, random_state=123)\n"
   ]
  },
  {
   "cell_type": "code",
   "execution_count": 75,
   "id": "99cb3574-7ac2-4918-98af-18d05cb2015f",
   "metadata": {},
   "outputs": [],
   "source": [
    "bestFes=df_sorted.iloc[:, :10]"
   ]
  },
  {
   "cell_type": "code",
   "execution_count": 64,
   "id": "a09d9ad0-31e4-4490-ae52-cded3900effc",
   "metadata": {},
   "outputs": [],
   "source": [
    "y=Y"
   ]
  },
  {
   "cell_type": "code",
   "execution_count": 81,
   "id": "ae3cc8a6-6897-40ab-b30d-09a85d6652db",
   "metadata": {},
   "outputs": [],
   "source": [
    "loo = LeaveOneOut()\n",
    "y_scores4 = cross_val_predict(model4, bestFes, y, cv=loo, method='predict_proba')\n",
    "\n",
    "fpr4, tpr4, thresholds4 = roc_curve(y, y_scores4[:, 1])\n",
    "roc_auc4 = auc(fpr4, tpr4)\n"
   ]
  },
  {
   "cell_type": "code",
   "execution_count": 85,
   "id": "aa5b1ca5-9f46-418a-aedf-a9885bf2630f",
   "metadata": {},
   "outputs": [
    {
     "data": {
      "image/png": "[encoded data removed]",
      "text/plain": [
       "<Figure size 800x600 with 1 Axes>"
      ]
     },
     "metadata": {},
     "output_type": "display_data"
    }
   ],
   "source": [
    "# 绘制 ROC 曲线\n",
    "plt.figure(figsize=(8, 6))\n",
    "\n",
    "lw = 2\n",
    "\n",
    "#plt.plot(fpr1, tpr1, color='darkorange', lw=lw, label='RandomForest (AUC = %0.4f)' % roc_auc1)\n",
    "#plt.plot(fpr2, tpr2, color='blue', lw=lw, label='SVM (AUC = %0.4f)' % roc_auc2)\n",
    "plt.plot(fpr4, tpr4, color='red', lw=lw, label='DecisionTree (AUC = %0.4f)' % roc_auc4)\n",
    "#plt.plot(fpr6, tpr6, color='purple', lw=lw, label='LogisticRegression (AUC = %0.4f)' % roc_auc6)\n",
    "\n",
    "#plt.plot(fpr3, tpr3, color='green', lw=lw, label='KNeighbors (AUC = %0.4f)' % roc_auc3)\n",
    "\n",
    "\n",
    "plt.plot([0, 1], [0, 1], color='navy', lw=lw, linestyle='--')\n",
    "plt.xlim([-0.05, 1.05])\n",
    "plt.ylim([-0.05, 1.05])\n",
    "plt.xlabel('False Positive Rate')\n",
    "plt.ylabel('True Positive Rate')\n",
    "plt.title('ROC Curve')\n",
    "plt.legend(loc=\"lower right\")\n",
    "plt.show()"
   ]
  }
 ],
 "metadata": {
  "kernelspec": {
   "display_name": "zongjin",
   "language": "python",
   "name": "zongjin"
  },
  "language_info": {
   "codemirror_mode": {
    "name": "ipython",
    "version": 3
   },
   "file_extension": ".py",
   "mimetype": "text/x-python",
   "name": "python",
   "nbconvert_exporter": "python",
   "pygments_lexer": "ipython3",
   "version": "3.8.13"
  }
 },
 "nbformat": 4,
 "nbformat_minor": 5
}
